{
 "cells": [
  {
   "cell_type": "code",
   "execution_count": 7,
   "id": "ef680783",
   "metadata": {},
   "outputs": [
    {
     "name": "stdout",
     "output_type": "stream",
     "text": [
      "jim\n",
      "anna\n",
      "jim\n",
      "anna\n"
     ]
    }
   ],
   "source": [
    "from pyswip import Prolog\n",
    "\n",
    "prolog = Prolog()\n",
    "\n",
    "# Define the Prolog rules\n",
    "prolog.assertz(\"parent(john, jim)\")\n",
    "prolog.assertz(\"parent(john, anna)\")\n",
    "\n",
    "# Query the Prolog knowledge base and print the results\n",
    "for solution in prolog.query(\"parent(john, X)\"):\n",
    "    print(solution[\"X\"])\n"
   ]
  },
  {
   "cell_type": "code",
   "execution_count": 1,
   "id": "63221be2",
   "metadata": {},
   "outputs": [
    {
     "ename": "PrologError",
     "evalue": "Caused by: 'assertz(((output_string(0, 0, 0, 1, 'Rule 5'); output_string(_, 2, _, _, _)))).'. Returned: 'error(permission_error(modify, static_procedure, /(;, 2)), context(:(system, /(assertz, 1)), _876))'.",
     "output_type": "error",
     "traceback": [
      "\u001b[1;31m---------------------------------------------------------------------------\u001b[0m",
      "\u001b[1;31mPrologError\u001b[0m                               Traceback (most recent call last)",
      "\u001b[1;32m~\\AppData\\Local\\Temp\\ipykernel_6892\\2244618285.py\u001b[0m in \u001b[0;36m<module>\u001b[1;34m\u001b[0m\n\u001b[0;32m      8\u001b[0m \u001b[0mprolog\u001b[0m\u001b[1;33m.\u001b[0m\u001b[0massertz\u001b[0m\u001b[1;33m(\u001b[0m\u001b[1;34m\"output_string(0, 1, 0, 0, 'Rule 3')\"\u001b[0m\u001b[1;33m)\u001b[0m\u001b[1;33m\u001b[0m\u001b[1;33m\u001b[0m\u001b[0m\n\u001b[0;32m      9\u001b[0m \u001b[0mprolog\u001b[0m\u001b[1;33m.\u001b[0m\u001b[0massertz\u001b[0m\u001b[1;33m(\u001b[0m\u001b[1;34m\"output_string(0, 0, 1, 0, 'Rule 4')\"\u001b[0m\u001b[1;33m)\u001b[0m\u001b[1;33m\u001b[0m\u001b[1;33m\u001b[0m\u001b[0m\n\u001b[1;32m---> 10\u001b[1;33m \u001b[0mprolog\u001b[0m\u001b[1;33m.\u001b[0m\u001b[0massertz\u001b[0m\u001b[1;33m(\u001b[0m\u001b[1;34m\"(output_string(0, 0, 0, 1, 'Rule 5'); output_string(_, 2, _, _, _))\"\u001b[0m\u001b[1;33m)\u001b[0m\u001b[1;33m\u001b[0m\u001b[1;33m\u001b[0m\u001b[0m\n\u001b[0m\u001b[0;32m     11\u001b[0m \u001b[1;33m\u001b[0m\u001b[0m\n\u001b[0;32m     12\u001b[0m \u001b[1;33m\u001b[0m\u001b[0m\n",
      "\u001b[1;32mc:\\Users\\alexf\\Anaconda3\\lib\\site-packages\\pyswip\\prolog.py\u001b[0m in \u001b[0;36massertz\u001b[1;34m(cls, assertion, catcherrors)\u001b[0m\n\u001b[0;32m    155\u001b[0m     \u001b[1;33m@\u001b[0m\u001b[0mclassmethod\u001b[0m\u001b[1;33m\u001b[0m\u001b[1;33m\u001b[0m\u001b[0m\n\u001b[0;32m    156\u001b[0m     \u001b[1;32mdef\u001b[0m \u001b[0massertz\u001b[0m\u001b[1;33m(\u001b[0m\u001b[0mcls\u001b[0m\u001b[1;33m,\u001b[0m \u001b[0massertion\u001b[0m\u001b[1;33m,\u001b[0m \u001b[0mcatcherrors\u001b[0m\u001b[1;33m=\u001b[0m\u001b[1;32mFalse\u001b[0m\u001b[1;33m)\u001b[0m\u001b[1;33m:\u001b[0m\u001b[1;33m\u001b[0m\u001b[1;33m\u001b[0m\u001b[0m\n\u001b[1;32m--> 157\u001b[1;33m         \u001b[0mnext\u001b[0m\u001b[1;33m(\u001b[0m\u001b[0mcls\u001b[0m\u001b[1;33m.\u001b[0m\u001b[0mquery\u001b[0m\u001b[1;33m(\u001b[0m\u001b[0massertion\u001b[0m\u001b[1;33m.\u001b[0m\u001b[0mjoin\u001b[0m\u001b[1;33m(\u001b[0m\u001b[1;33m[\u001b[0m\u001b[1;34m\"assertz((\"\u001b[0m\u001b[1;33m,\u001b[0m \u001b[1;34m\")).\"\u001b[0m\u001b[1;33m]\u001b[0m\u001b[1;33m)\u001b[0m\u001b[1;33m,\u001b[0m \u001b[0mcatcherrors\u001b[0m\u001b[1;33m=\u001b[0m\u001b[0mcatcherrors\u001b[0m\u001b[1;33m)\u001b[0m\u001b[1;33m)\u001b[0m\u001b[1;33m\u001b[0m\u001b[1;33m\u001b[0m\u001b[0m\n\u001b[0m\u001b[0;32m    158\u001b[0m \u001b[1;33m\u001b[0m\u001b[0m\n\u001b[0;32m    159\u001b[0m     \u001b[1;33m@\u001b[0m\u001b[0mclassmethod\u001b[0m\u001b[1;33m\u001b[0m\u001b[1;33m\u001b[0m\u001b[0m\n",
      "\u001b[1;32mc:\\Users\\alexf\\Anaconda3\\lib\\site-packages\\pyswip\\prolog.py\u001b[0m in \u001b[0;36m__call__\u001b[1;34m(self, query, maxresult, catcherrors, normalize)\u001b[0m\n\u001b[0;32m    131\u001b[0m                     \u001b[1;32mif\u001b[0m \u001b[0mterm\u001b[0m\u001b[1;33m.\u001b[0m\u001b[0margs\u001b[0m\u001b[1;33m[\u001b[0m\u001b[1;36m0\u001b[0m\u001b[1;33m]\u001b[0m\u001b[1;33m.\u001b[0m\u001b[0mvalue\u001b[0m \u001b[1;33m==\u001b[0m \u001b[1;34m'evaluation_error(float_overflow)'\u001b[0m\u001b[1;33m:\u001b[0m\u001b[1;33m\u001b[0m\u001b[1;33m\u001b[0m\u001b[0m\n\u001b[0;32m    132\u001b[0m                         \u001b[1;32mraise\u001b[0m \u001b[0mOverflowError\u001b[0m\u001b[1;33m\u001b[0m\u001b[1;33m\u001b[0m\u001b[0m\n\u001b[1;32m--> 133\u001b[1;33m                     raise PrologError(\"\".join([\"Caused by: '\", query, \"'. \",\n\u001b[0m\u001b[0;32m    134\u001b[0m                                                \"Returned: '\", str(term), \"'.\"]))\n\u001b[0;32m    135\u001b[0m \u001b[1;33m\u001b[0m\u001b[0m\n",
      "\u001b[1;31mPrologError\u001b[0m: Caused by: 'assertz(((output_string(0, 0, 0, 1, 'Rule 5'); output_string(_, 2, _, _, _)))).'. Returned: 'error(permission_error(modify, static_procedure, /(;, 2)), context(:(system, /(assertz, 1)), _876))'."
     ]
    }
   ],
   "source": [
    "from pyswip import Prolog\n",
    "\n",
    "prolog = Prolog()\n",
    "\n",
    "# Define the Prolog rules\n",
    "prolog.assertz(\"output_string(1, _, _, 0, 'Rule 1')\")\n",
    "prolog.assertz(\"output_string(1, 0, 0, 0, 'Rule 2')\")\n",
    "prolog.assertz(\"output_string(0, 1, 0, 0, 'Rule 3')\")\n",
    "prolog.assertz(\"output_string(0, 0, 1, 0, 'Rule 4')\")\n",
    "prolog.assertz(\"(output_string(0, 0, 0, 1, 'Rule 5'); output_string(_, 2, _, _, _))\")\n",
    "\n",
    "\n"
   ]
  },
  {
   "cell_type": "code",
   "execution_count": 3,
   "id": "f124d55f",
   "metadata": {},
   "outputs": [],
   "source": [
    "# Query the Prolog knowledge base and print the results\n",
    "for solution in prolog.query(\"output_string(0, 2, 0, 1, Result)\"):\n",
    "    print(solution[\"Result\"])"
   ]
  },
  {
   "cell_type": "code",
   "execution_count": 1,
   "id": "25c2818e",
   "metadata": {},
   "outputs": [],
   "source": [
    "from pyswip import Prolog\n",
    "\n",
    "knowledge_base = Prolog()\n",
    "\n",
    "knowledge_base.assertz(\"recommend(0, _, sensitive, small, '30_30_sensitive')\")\n",
    "knowledge_base.assertz(\"recommend(0, _, sensitive, medium, '30_30_sensitive')\")\n",
    "knowledge_base.assertz(\"recommend(0, _, sensitive, large, '45_30_sensitive')\")\n",
    "knowledge_base.assertz(\"recommend(0, _, normal, small, '30_40_normal')\")\n",
    "knowledge_base.assertz(\"recommend(0, _, normal, medium, '30_40_normal')\")\n",
    "knowledge_base.assertz(\"recommend(0, _, normal, large, '45_40_normal')\")\n",
    "knowledge_base.assertz(\"recommend(0, _, heavy, small, '30_60_heavy')\")\n",
    "knowledge_base.assertz(\"recommend(0, _, heavy, medium, '30_60_heavy')\")\n",
    "knowledge_base.assertz(\"recommend(0, _, heavy, large, '45_60_heavy')\")\n",
    "\n",
    "knowledge_base.assertz(\"recommend(1, _, sensitive, small, '60_30_sensitive')\")\n",
    "knowledge_base.assertz(\"recommend(1, _, sensitive, medium, '60_30_sensitive')\")\n",
    "knowledge_base.assertz(\"recommend(1, _, sensitive, large, '90_30_sensitive')\")\n",
    "knowledge_base.assertz(\"recommend(1, _, normal, small, '60_40_normal')\")\n",
    "knowledge_base.assertz(\"recommend(1, _, normal, medium, '60_40_normal')\")\n",
    "knowledge_base.assertz(\"recommend(1, _, normal, large, '90_40_normal')\")\n",
    "knowledge_base.assertz(\"recommend(1, _, heavy, small, '60_60_heavy')\")\n",
    "knowledge_base.assertz(\"recommend(1, _, heavy, medium, '60_60_heavy')\")\n",
    "knowledge_base.assertz(\"recommend(1, _, heavy, large, '90_60_heavy')\")\n",
    "\n",
    "knowledge_base.assertz(\"recommend(2, _, sensitive, small, '120_30_sensitive')\")\n",
    "knowledge_base.assertz(\"recommend(2, _, sensitive, medium, '120_30_sensitive')\")\n",
    "knowledge_base.assertz(\"recommend(2, _, sensitive, large, '180_30_sensitive')\")\n",
    "knowledge_base.assertz(\"recommend(2, _, normal, small, '120_40_normal')\")\n",
    "knowledge_base.assertz(\"recommend(2, _, normal, medium, '120_40_normal')\")\n",
    "knowledge_base.assertz(\"recommend(2, _, normal, large, '180_40_normal')\")\n",
    "knowledge_base.assertz(\"recommend(2, _, heavy, small, '120_60_heavy')\")\n",
    "knowledge_base.assertz(\"recommend(2, _, heavy, medium, '120_60_heavy')\")\n",
    "knowledge_base.assertz(\"recommend(2, _, heavy, large, '180_60_heavy')\")"
   ]
  },
  {
   "cell_type": "code",
   "execution_count": 3,
   "id": "4b8f0d25",
   "metadata": {},
   "outputs": [
    {
     "name": "stdout",
     "output_type": "stream",
     "text": [
      "45_30_sensitive\n"
     ]
    }
   ],
   "source": [
    "for solution in knowledge_base.query(\"recommend(0, _, sensitive, large, Recommendation)\"):\n",
    "    rec = solution['Recommendation']\n",
    "    print(solution[\"Recommendation\"])"
   ]
  },
  {
   "cell_type": "code",
   "execution_count": 5,
   "id": "0db63687",
   "metadata": {},
   "outputs": [
    {
     "data": {
      "text/plain": [
       "['45', '30', 'sensitive']"
      ]
     },
     "execution_count": 5,
     "metadata": {},
     "output_type": "execute_result"
    }
   ],
   "source": [
    "rec.split('_')"
   ]
  },
  {
   "cell_type": "code",
   "execution_count": null,
   "id": "a046ab45",
   "metadata": {},
   "outputs": [],
   "source": []
  }
 ],
 "metadata": {
  "kernelspec": {
   "display_name": "Python 3 (ipykernel)",
   "language": "python",
   "name": "python3"
  },
  "language_info": {
   "codemirror_mode": {
    "name": "ipython",
    "version": 3
   },
   "file_extension": ".py",
   "mimetype": "text/x-python",
   "name": "python",
   "nbconvert_exporter": "python",
   "pygments_lexer": "ipython3",
   "version": "3.9.13"
  }
 },
 "nbformat": 4,
 "nbformat_minor": 5
}
