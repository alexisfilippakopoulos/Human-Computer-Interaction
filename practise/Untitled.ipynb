{
 "cells": [
  {
   "cell_type": "code",
   "execution_count": 12,
   "id": "e65a6335",
   "metadata": {},
   "outputs": [],
   "source": [
    "s = 'Yes I do in nope fact want to be assisted'"
   ]
  },
  {
   "cell_type": "code",
   "execution_count": 28,
   "id": "ab892c10",
   "metadata": {},
   "outputs": [],
   "source": [
    "assist_frame_eval = {'yes' : ['yes', 'yea', 'ye', 'sure', 'help', 'assist', 'do'], 'no' : ['no', 'nope', 'not' \"n't\"]}\n"
   ]
  },
  {
   "cell_type": "code",
   "execution_count": 29,
   "id": "0d343c26",
   "metadata": {},
   "outputs": [],
   "source": [
    "matches_per_option = {}\n",
    "for key, value in assist_frame_eval.items():\n",
    "    matched_words = 0\n",
    "    for v in value:\n",
    "        matched_words += 1 if s.__contains__(v) else 0\n",
    "    matches_per_option[key] = matched_words"
   ]
  },
  {
   "cell_type": "code",
   "execution_count": 30,
   "id": "a0627ca0",
   "metadata": {},
   "outputs": [
    {
     "name": "stdout",
     "output_type": "stream",
     "text": [
      "Key: yes, Matched Words: 2\n",
      "Key: no, Matched Words: 2\n"
     ]
    }
   ],
   "source": [
    "for key, value in matches_per_option.items():\n",
    "    print(f'Key: {key}, Matched Words: {value}')"
   ]
  },
  {
   "cell_type": "code",
   "execution_count": null,
   "id": "e0513827",
   "metadata": {},
   "outputs": [],
   "source": []
  }
 ],
 "metadata": {
  "kernelspec": {
   "display_name": "Python 3 (ipykernel)",
   "language": "python",
   "name": "python3"
  },
  "language_info": {
   "codemirror_mode": {
    "name": "ipython",
    "version": 3
   },
   "file_extension": ".py",
   "mimetype": "text/x-python",
   "name": "python",
   "nbconvert_exporter": "python",
   "pygments_lexer": "ipython3",
   "version": "3.9.13"
  }
 },
 "nbformat": 4,
 "nbformat_minor": 5
}
