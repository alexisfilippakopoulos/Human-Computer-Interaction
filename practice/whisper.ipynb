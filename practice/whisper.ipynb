{
 "cells": [
  {
   "cell_type": "code",
   "execution_count": 1,
   "id": "95ca7058",
   "metadata": {},
   "outputs": [],
   "source": [
    "import whisper as wh"
   ]
  },
  {
   "cell_type": "code",
   "execution_count": 2,
   "id": "247611a9",
   "metadata": {},
   "outputs": [],
   "source": [
    "# Insanciate a baseline model\n",
    "model = wh.load_model(\"base\")"
   ]
  },
  {
   "cell_type": "code",
   "execution_count": 3,
   "id": "7b8e4b7d",
   "metadata": {},
   "outputs": [],
   "source": [
    "# Load audio and pad or trim it to fit 30 second\n",
    "input_audio = wh.load_audio(\"audio.mp3\")\n",
    "input_audio = wh.pad_or_trim(input_audio)"
   ]
  },
  {
   "cell_type": "code",
   "execution_count": 5,
   "id": "4ab37db3",
   "metadata": {},
   "outputs": [],
   "source": [
    "# make log-Mel spectrogram and move to the same device as the model\n",
    "mel = wh.log_mel_spectrogram(input_audio).to(model.device)"
   ]
  },
  {
   "cell_type": "code",
   "execution_count": 6,
   "id": "2c0e8380",
   "metadata": {},
   "outputs": [
    {
     "name": "stdout",
     "output_type": "stream",
     "text": [
      "Detected language: en\n"
     ]
    }
   ],
   "source": [
    "# detect the spoken language\n",
    "_, probs = model.detect_language(mel)\n",
    "print(f\"Detected language: {max(probs, key=probs.get)}\")"
   ]
  },
  {
   "cell_type": "code",
   "execution_count": 8,
   "id": "1a6ca7f4",
   "metadata": {},
   "outputs": [
    {
     "name": "stdout",
     "output_type": "stream",
     "text": [
      "220 degrees, 120 degrees, 85 degrees, wash, 90 degrees, 46 degrees, dry, 40 minutes, 60 minutes, one hour, an hour and a half, 60 minutes.\n"
     ]
    }
   ],
   "source": [
    "# decode the audio\n",
    "options = wh.DecodingOptions(fp16=False)\n",
    "result = wh.decode(model, mel, options)\n",
    "\n",
    "# print the recognized text\n",
    "print(result.text)"
   ]
  },
  {
   "cell_type": "markdown",
   "id": "1cd756ee",
   "metadata": {},
   "source": []
  }
 ],
 "metadata": {
  "kernelspec": {
   "display_name": "Python 3 (ipykernel)",
   "language": "python",
   "name": "python3"
  },
  "language_info": {
   "codemirror_mode": {
    "name": "ipython",
    "version": 3
   },
   "file_extension": ".py",
   "mimetype": "text/x-python",
   "name": "python",
   "nbconvert_exporter": "python",
   "pygments_lexer": "ipython3",
   "version": "3.9.13"
  }
 },
 "nbformat": 4,
 "nbformat_minor": 5
}
